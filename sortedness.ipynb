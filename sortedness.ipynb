{
 "cells": [
  {
   "cell_type": "code",
   "execution_count": 6,
   "metadata": {},
   "outputs": [
    {
     "name": "stdout",
     "output_type": "stream",
     "text": [
      "[981, 1964, 2925, 3913, 4892]\n",
      "[985, 1954, 2924, 3896, 4873]\n",
      "[1012, 1998, 2976, 3980, 4981]\n",
      "[980, 1991, 3004, 4011, 5021]\n"
     ]
    }
   ],
   "source": [
    "datasetFiles=[\"dataset1.txt\", \"dataset2.txt\", \"dataset3.txt\", \"dataset4.txt\"]\n",
    "n = 10000\n",
    "arr = []\n",
    "oriArr=[]\n",
    "sortedness=[]\n",
    "for j in range(4):\n",
    "    arr = []\n",
    "    oriArr=[]\n",
    "    newlist=[]\n",
    "    f = open(datasetFiles[j], \"r\")\n",
    "    for i in range(0,n):\n",
    "        arr.append(float(f.readline()))\n",
    "        oriArr.append(float(f.readline()))\n",
    "    arr=sorted(arr)\n",
    "    \n",
    "    for i in range(5):\n",
    "        b=(i+1)*2000\n",
    "        ai=0\n",
    "        for k in range(1,b):\n",
    "            if oriArr[k-1]>oriArr[k]:\n",
    "                ai += 1\n",
    "        newlist.append(ai)\n",
    "    sortedness.append(newlist)\n",
    "for j in range(4):\n",
    "    print(sortedness[j])\n",
    "    "
   ]
  },
  {
   "cell_type": "code",
   "execution_count": null,
   "metadata": {},
   "outputs": [],
   "source": []
  }
 ],
 "metadata": {
  "kernelspec": {
   "display_name": "Python 3",
   "language": "python",
   "name": "python3"
  },
  "language_info": {
   "codemirror_mode": {
    "name": "ipython",
    "version": 3
   },
   "file_extension": ".py",
   "mimetype": "text/x-python",
   "name": "python",
   "nbconvert_exporter": "python",
   "pygments_lexer": "ipython3",
   "version": "3.7.4"
  }
 },
 "nbformat": 4,
 "nbformat_minor": 2
}
